{
 "cells": [
  {
   "cell_type": "code",
   "execution_count": 2,
   "metadata": {},
   "outputs": [
    {
     "name": "stderr",
     "output_type": "stream",
     "text": [
      " 18%|█▊        | 17/96 [00:40<03:06,  2.36s/it]\n",
      "1 Failed download:\n",
      "['BRKA']: Exception('%ticker%: No data found, symbol may be delisted')\n",
      " 19%|█▉        | 18/96 [00:46<04:21,  3.35s/it]\n",
      "1 Failed download:\n",
      "['BRKB']: Exception('%ticker%: No data found, symbol may be delisted')\n",
      "100%|██████████| 96/96 [03:54<00:00,  2.44s/it]\n"
     ]
    }
   ],
   "source": [
    "import pymysql\n",
    "from sqlalchemy import create_engine\n",
    "import pandas as pd\n",
    "import yfinance as yf\n",
    "import time\n",
    "from tqdm import tqdm\n",
    "import collections\n",
    "from db_connector import connect_db\n",
    "from db_connector import engine_db\n",
    "\n",
    "if not hasattr(collections, 'Callable'):\n",
    "    collections.Callable = collections.abc.Callable\n",
    "\n",
    "engine = engine_db()\n",
    "con = connect_db()\n",
    "\n",
    "mycursor = con.cursor()\n",
    "\n",
    "ticker_list = pd.read_sql(\"\"\"\n",
    "select * from global_ticker\n",
    "where date = (select max(date) from global_ticker)\n",
    "and country = 'United States'\n",
    "and (`Market Cap` like '%%B' and length(`Market Cap`) > 6\n",
    "OR (`Market Cap` like '%%T'));                          \n",
    "\"\"\", con=engine)\n",
    "\n",
    "truncate_table = \"\"\"\n",
    "truncate table global_price;\n",
    "\"\"\"\n",
    "\n",
    "mycursor.execute(truncate_table)\n",
    "con.commit()\n",
    "\n",
    "query = \"\"\"\n",
    "    insert into global_price (Date, High, Low, Open, Close, Volume, `Adj Close`, ticker)\n",
    "    values (%s, %s,%s,%s,%s,%s,%s,%s) as new\n",
    "    on duplicate key update\n",
    "    High = new.High, Low = new.Low, Open = new.Open, Close = new.Close,\n",
    "    Volume = new.Volume, `Adj Close` = new.`Adj Close`;\n",
    "\"\"\"\n",
    "\n",
    "error_list = []\n",
    "\n",
    "for i in tqdm(range(0, len(ticker_list))):\n",
    "\n",
    "    ticker = ticker_list['Symbol'][i]\n",
    "\n",
    "    try:\n",
    "\n",
    "        price = yf.download(ticker, progress=False, period='7d')\n",
    "\n",
    "        price = price.reset_index()\n",
    "        price['ticker'] = ticker\n",
    "\n",
    "        args = price.values.tolist()\n",
    "        mycursor.executemany(query, args)\n",
    "        con.commit()\n",
    "\n",
    "    except:\n",
    "\n",
    "        print(ticker)\n",
    "        error_list.append(ticker)\n",
    "\n",
    "    time.sleep(2)\n",
    "\n",
    "engine.dispose()\n",
    "con.close()"
   ]
  }
 ],
 "metadata": {
  "kernelspec": {
   "display_name": "Python 3",
   "language": "python",
   "name": "python3"
  },
  "language_info": {
   "codemirror_mode": {
    "name": "ipython",
    "version": 3
   },
   "file_extension": ".py",
   "mimetype": "text/x-python",
   "name": "python",
   "nbconvert_exporter": "python",
   "pygments_lexer": "ipython3",
   "version": "3.11.3"
  }
 },
 "nbformat": 4,
 "nbformat_minor": 2
}
