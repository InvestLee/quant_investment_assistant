{
 "cells": [
  {
   "cell_type": "code",
   "execution_count": 1,
   "metadata": {},
   "outputs": [
    {
     "name": "stderr",
     "output_type": "stream",
     "text": [
      " 18%|█▊        | 17/96 [03:14<13:38, 10.36s/it]"
     ]
    },
    {
     "name": "stdout",
     "output_type": "stream",
     "text": [
      "BRKa\n"
     ]
    },
    {
     "name": "stderr",
     "output_type": "stream",
     "text": [
      " 19%|█▉        | 18/96 [03:20<11:48,  9.09s/it]"
     ]
    },
    {
     "name": "stdout",
     "output_type": "stream",
     "text": [
      "BRKb\n"
     ]
    },
    {
     "name": "stderr",
     "output_type": "stream",
     "text": [
      " 99%|█████████▉| 95/96 [17:46<00:10, 10.57s/it]"
     ]
    }
   ],
   "source": [
    "from sqlalchemy import create_engine\n",
    "import pymysql\n",
    "import pandas as pd\n",
    "from yahooquery import Ticker\n",
    "import time\n",
    "from tqdm import tqdm\n",
    "import numpy as np\n",
    "import collections\n",
    "from db_connector import connect_db\n",
    "from db_connector import engine_db\n",
    "\n",
    "if not hasattr(collections, 'Callable'):\n",
    "    collections.Callable = collections.abc.Callable\n",
    "\n",
    "engine = engine_db()\n",
    "con = connect_db()\n",
    "\n",
    "mycursor = con.cursor()\n",
    "\n",
    "ticker_list = pd.read_sql(\"\"\"\n",
    "select * from global_ticker\n",
    "where date = (select max(date) from global_ticker)\n",
    "and country = 'United States'\n",
    "and (`Market Cap` like '%%B' and length(`Market Cap`) > 6\n",
    "OR (`Market Cap` like '%%T'));    \n",
    "\"\"\", con=engine)\n",
    "\n",
    "truncate_table = \"\"\"\n",
    "truncate table global_fs;\n",
    "\"\"\"\n",
    "\n",
    "mycursor.execute(truncate_table)\n",
    "con.commit()\n",
    "\n",
    "query_fs = \"\"\"\n",
    "    insert into global_fs (ticker, date, account, value, freq)\n",
    "    values (%s,%s,%s,%s,%s) as new\n",
    "    on duplicate key update\n",
    "    value = new.value;\n",
    "\"\"\"\n",
    "\n",
    "error_list = []\n",
    "\n",
    "for i in tqdm(range(0, len(ticker_list))):\n",
    "\n",
    "    ticker = ticker_list['Symbol'][i]\n",
    "\n",
    "    try:\n",
    "\n",
    "        data = Ticker(ticker)\n",
    "        \n",
    "        data_y = data.all_financial_data(frequency = 'a')\n",
    "        data_y.reset_index(inplace = True)\n",
    "        data_y = data_y.loc[:, ~data_y.columns.isin(['periodType', 'currencyCode'])]\n",
    "        data_y = data_y.melt(id_vars = ['symbol', 'asOfDate'])\n",
    "        data_y = data_y.replace([np.nan], None)\n",
    "        data_y['freq'] = 'y'\n",
    "        data_y.columns = ['ticker', 'date', 'account', 'value', 'freq']\n",
    "        \n",
    "        data_q = data.all_financial_data(frequency = 'q')\n",
    "        data_q.reset_index(inplace = True)\n",
    "        data_q = data_q.loc[:, ~data_q.columns.isin(['periodType', 'currencyCode'])]\n",
    "        data_q = data_q.melt(id_vars = ['symbol', 'asOfDate'])\n",
    "        data_q = data_q.replace([np.nan], None)\n",
    "        data_q['freq'] = 'q'\n",
    "        data_q.columns = ['ticker', 'date', 'account', 'value', 'freq']\n",
    "        \n",
    "        data_v = data.valuation_measures\n",
    "        data_v.reset_index(inplace = True)\n",
    "        data_v = data_v.loc[:, ~data_v.columns.isin(['periodType', 'currencyCode'])]\n",
    "        data_v = data_v.melt(id_vars = ['symbol', 'asOfDate'])\n",
    "        data_v = data_v.replace([np.nan], None)\n",
    "        data_v['freq'] = 'q'\n",
    "        data_v.columns = ['ticker', 'date', 'account', 'value', 'freq']\n",
    "\n",
    "        data_fs = pd.concat([data_y, data_q, data_v], axis=0)\n",
    "\n",
    "        args = data_fs.values.tolist()\n",
    "        mycursor.executemany(query_fs, args)\n",
    "        con.commit()\n",
    "\n",
    "    except:\n",
    "\n",
    "        print(ticker)\n",
    "        error_list.append(ticker)\n",
    "\n",
    "    time.sleep(2)\n",
    "\n",
    "engine.dispose()\n",
    "con.close()"
   ]
  }
 ],
 "metadata": {
  "kernelspec": {
   "display_name": "Python 3",
   "language": "python",
   "name": "python3"
  },
  "language_info": {
   "codemirror_mode": {
    "name": "ipython",
    "version": 3
   },
   "file_extension": ".py",
   "mimetype": "text/x-python",
   "name": "python",
   "nbconvert_exporter": "python",
   "pygments_lexer": "ipython3",
   "version": "3.11.3"
  }
 },
 "nbformat": 4,
 "nbformat_minor": 2
}
